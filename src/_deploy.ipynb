{
 "cells": [
  {
   "cell_type": "code",
   "execution_count": 14,
   "id": "5cd9eec3-c311-47bf-966c-3573ae5c97d8",
   "metadata": {},
   "outputs": [
    {
     "name": "stdout",
     "output_type": "stream",
     "text": [
      "mkdir: ./build/: File exists\n",
      "[NbConvertApp] Converting notebook gemini_pictionary_logic.ipynb to script\n",
      "[NbConvertApp] Writing 8074 bytes to build/gemini_pictionary_logic.py\n"
     ]
    }
   ],
   "source": [
    "\n",
    "# output \n",
    "!mkdir ./build/\n",
    "!jupyter nbconvert --to script gemini_pictionary_logic.ipynb  --output ./build/gemini_pictionary_logic\n",
    "\n"
   ]
  },
  {
   "cell_type": "code",
   "execution_count": null,
   "id": "33f9a258-8f0a-4ca1-b4dd-51b5e8269c4a",
   "metadata": {},
   "outputs": [],
   "source": []
  }
 ],
 "metadata": {
  "kernelspec": {
   "display_name": "Python 3 (ipykernel)",
   "language": "python",
   "name": "python3"
  },
  "language_info": {
   "codemirror_mode": {
    "name": "ipython",
    "version": 3
   },
   "file_extension": ".py",
   "mimetype": "text/x-python",
   "name": "python",
   "nbconvert_exporter": "python",
   "pygments_lexer": "ipython3",
   "version": "3.12.2"
  }
 },
 "nbformat": 4,
 "nbformat_minor": 5
}
